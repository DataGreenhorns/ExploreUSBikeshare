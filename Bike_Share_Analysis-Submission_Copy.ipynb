{
 "cells": [
  {
   "cell_type": "markdown",
   "metadata": {},
   "source": [
    "# 2016 US Bike Share Activity Snapshot\n",
    "\n",
    "## Table of Contents\n",
    "- [Introduction](#intro)\n",
    "- [Posing Questions](#pose_questions)\n",
    "- [Data Collection and Wrangling](#wrangling)\n",
    "  - [Condensing the Trip Data](#condensing)\n",
    "- [Exploratory Data Analysis](#eda)\n",
    "  - [Statistics](#statistics)\n",
    "  - [Visualizations](#visualizations)\n",
    "- [Performing Your Own Analysis](#eda_continued)\n",
    "- [Conclusions](#conclusions)\n",
    "\n",
    "<a id='intro'></a>\n",
    "## Introduction\n",
    "\n",
    "> **Tip**: Quoted sections like this will provide helpful instructions on how to navigate and use a Jupyter notebook.\n",
    "\n",
    "Over the past decade, bicycle-sharing systems have been growing in number and popularity in cities across the world. Bicycle-sharing systems allow users to rent bicycles for short trips, typically 30 minutes or less. Thanks to the rise in information technologies, it is easy for a user of the system to access a dock within the system to unlock or return bicycles. These technologies also provide a wealth of data that can be used to explore how these bike-sharing systems are used.\n",
    "\n",
    "In this project, you will perform an exploratory analysis on data provided by [Motivate](https://www.motivateco.com/), a bike-share system provider for many major cities in the United States. You will compare the system usage between three large cities: New York City, Chicago, and Washington, DC. You will also see if there are any differences within each system for those users that are registered, regular users and those users that are short-term, casual users."
   ]
  },
  {
   "cell_type": "markdown",
   "metadata": {},
   "source": [
    "<a id='pose_questions'></a>\n",
    "## Posing Questions\n",
    "\n",
    "Before looking at the bike sharing data, you should start by asking questions you might want to understand about the bike share data. Consider, for example, if you were working for Motivate. What kinds of information would you want to know about in order to make smarter business decisions? If you were a user of the bike-share service, what factors might influence how you would want to use the service?\n",
    "\n",
    "**Question 1**:**Layman Questions**\n",
    "\n",
    "a) Which city is most profitable among the three cities in the entire season?\n",
    "\n",
    "b) Which stations are the most popular?\n",
    "\n",
    "c) How does use change depending on holidays?\n",
    "\n",
    "**Question 2**:**Business Questions**\n",
    "\n",
    "a) What is the optimal driving time between bikeshare stations?\n",
    "\n",
    "b) What is the optimum time for which a bike is in usage?\n",
    "\n",
    "> **Tip**: If you double click on this cell, you will see the text change so that all of the formatting is removed. This allows you to edit this block of text. This block of text is written using [Markdown](http://daringfireball.net/projects/markdown/syntax), which is a way to format text using headers, links, italics, and many other options using a plain-text syntax. You will also use Markdown later in the Nanodegree program. Use **Shift** + **Enter** or **Shift** + **Return** to run the cell and show its rendered form."
   ]
  },
  {
   "cell_type": "markdown",
   "metadata": {},
   "source": [
    "<a id='wrangling'></a>\n",
    "## Data Collection and Wrangling\n",
    "\n",
    "Now it's time to collect and explore our data. In this project, we will focus on the record of individual trips taken in 2016 from our selected cities: New York City, Chicago, and Washington, DC. Each of these cities has a page where we can freely download the trip data.:\n",
    "\n",
    "- New York City (Citi Bike): [Link](https://www.citibikenyc.com/system-data)\n",
    "- Chicago (Divvy): [Link](https://www.divvybikes.com/system-data)\n",
    "- Washington, DC (Capital Bikeshare): [Link](https://www.capitalbikeshare.com/system-data)\n",
    "\n",
    "If you visit these pages, you will notice that each city has a different way of delivering its data. Chicago updates with new data twice a year, Washington DC is quarterly, and New York City is monthly. **However, you do not need to download the data yourself.** The data has already been collected for you in the `/data/` folder of the project files. While the original data for 2016 is spread among multiple files for each city, the files in the `/data/` folder collect all of the trip data for the year into one file per city. Some data wrangling of inconsistencies in timestamp format within each city has already been performed for you. In addition, a random 2% sample of the original data is taken to make the exploration more manageable. \n",
    "\n",
    "**Question 2**: However, there is still a lot of data for us to investigate, so it's a good idea to start off by looking at one entry from each of the cities we're going to analyze. Run the first code cell below to load some packages and functions that you'll be using in your analysis. Then, complete the second code cell to print out the first trip recorded from each of the cities (the second line of each data file).\n",
    "\n",
    "> **Tip**: You can run a code cell like you formatted Markdown cells above by clicking on the cell and using the keyboard shortcut **Shift** + **Enter** or **Shift** + **Return**. Alternatively, a code cell can be executed using the **Play** button in the toolbar after selecting it. While the cell is running, you will see an asterisk in the message to the left of the cell, i.e. `In [*]:`. The asterisk will change into a number to show that execution has completed, e.g. `In [1]`. If there is output, it will show up as `Out [1]:`, with an appropriate number to match the \"In\" number."
   ]
  },
  {
   "cell_type": "code",
   "execution_count": 49,
   "metadata": {},
   "outputs": [],
   "source": [
    "## import all necessary packages and functions.\n",
    "import csv # read and write csv files\n",
    "import pandas as pd #converts CSV files to dataframes. Better than plain txt.\n",
    "from datetime import datetime # operations to parse dates\n",
    "from pprint import pprint # use to print data structures like dictionaries in a nicer way than the base print function\n",
    "import matplotlib as mpl #for visualization \n",
    "import numpy as np # for calculations\n",
    "from pandas import Timestamp"
   ]
  },
  {
   "cell_type": "markdown",
   "metadata": {},
   "source": [
    "If everything has been filled out correctly, you should see below the printout of each city name (which has been parsed from the data file name) that the first trip has been parsed in the form of a dictionary. When you set up a `DictReader` object, the first row of the data file is normally interpreted as column names. Every other row in the data file will use those column names as keys, as a dictionary is generated for each row.\n",
    "\n",
    "This will be useful since we can refer to quantities by an easily-understandable label instead of just a numeric index. For example, if we have a trip stored in the variable `row`, then we would rather get the trip duration from `row['duration']` instead of `row[0]`.\n",
    "\n",
    "<a id='condensing'></a>\n",
    "### Condensing the Trip Data\n",
    "\n",
    "It should also be observable from the above printout that each city provides different information. Even where the information is the same, the column names and formats are sometimes different. To make things as simple as possible when we get to the actual exploration, we should trim and clean the data. Cleaning the data makes sure that the data formats across the cities are consistent, while trimming focuses only on the parts of the data we are most interested in to make the exploration easier to work with.\n",
    "\n",
    "You will generate new data files with five values of interest for each trip: trip duration, starting month, starting hour, day of the week, and user type. Each of these may require additional wrangling depending on the city:\n",
    "\n",
    "- **Duration**: This has been given to us in seconds (New York, Chicago) or milliseconds (Washington). A more natural unit of analysis will be if all the trip durations are given in terms of minutes.\n",
    "- **Month**, **Hour**, **Day of Week**: Ridership volume is likely to change based on the season, time of day, and whether it is a weekday or weekend. Use the start time of the trip to obtain these values. The New York City data includes the seconds in their timestamps, while Washington and Chicago do not. The [`datetime`](https://docs.python.org/3/library/datetime.html) package will be very useful here to make the needed conversions.\n",
    "- **User Type**: It is possible that users who are subscribed to a bike-share system will have different patterns of use compared to users who only have temporary passes. Washington divides its users into two types: 'Registered' for users with annual, monthly, and other longer-term subscriptions, and 'Casual', for users with 24-hour, 3-day, and other short-term passes. The New York and Chicago data uses 'Subscriber' and 'Customer' for these groups, respectively. For consistency, you will convert the Washington labels to match the other two.\n",
    "\n",
    "\n",
    "**Question 3a**: Complete the helper functions in the code cells below to address each of the cleaning tasks described above."
   ]
  },
  {
   "cell_type": "code",
   "execution_count": 50,
   "metadata": {},
   "outputs": [
    {
     "name": "stdout",
     "output_type": "stream",
     "text": [
      "\n",
      "City: NYC\n",
      "OrderedDict([('tripduration', '839'),\n",
      "             ('starttime', '1/1/2016 00:09:55'),\n",
      "             ('stoptime', '1/1/2016 00:23:54'),\n",
      "             ('start station id', '532'),\n",
      "             ('start station name', 'S 5 Pl & S 4 St'),\n",
      "             ('start station latitude', '40.710451'),\n",
      "             ('start station longitude', '-73.960876'),\n",
      "             ('end station id', '401'),\n",
      "             ('end station name', 'Allen St & Rivington St'),\n",
      "             ('end station latitude', '40.72019576'),\n",
      "             ('end station longitude', '-73.98997825'),\n",
      "             ('bikeid', '17109'),\n",
      "             ('usertype', 'Customer'),\n",
      "             ('birth year', ''),\n",
      "             ('gender', '0')])\n",
      "\n",
      "City: Chicago\n",
      "OrderedDict([('trip_id', '9080545'),\n",
      "             ('starttime', '3/31/2016 23:30'),\n",
      "             ('stoptime', '3/31/2016 23:46'),\n",
      "             ('bikeid', '2295'),\n",
      "             ('tripduration', '926'),\n",
      "             ('from_station_id', '156'),\n",
      "             ('from_station_name', 'Clark St & Wellington Ave'),\n",
      "             ('to_station_id', '166'),\n",
      "             ('to_station_name', 'Ashland Ave & Wrightwood Ave'),\n",
      "             ('usertype', 'Subscriber'),\n",
      "             ('gender', 'Male'),\n",
      "             ('birthyear', '1990')])\n",
      "\n",
      "City: Washington\n",
      "OrderedDict([('Duration (ms)', '427387'),\n",
      "             ('Start date', '3/31/2016 22:57'),\n",
      "             ('End date', '3/31/2016 23:04'),\n",
      "             ('Start station number', '31602'),\n",
      "             ('Start station', 'Park Rd & Holmead Pl NW'),\n",
      "             ('End station number', '31207'),\n",
      "             ('End station', 'Georgia Ave and Fairmont St NW'),\n",
      "             ('Bike number', 'W20842'),\n",
      "             ('Member Type', 'Registered')])\n"
     ]
    }
   ],
   "source": [
    "def print_first_point(filename):\n",
    "    \"\"\"\n",
    "    This function prints and returns the first data point (second row) from\n",
    "    a csv file that includes a header row.\n",
    "    \"\"\"\n",
    "    # print city name for reference\n",
    "    city = filename.split('-')[0].split('/')[-1]\n",
    "    print('\\nCity: {}'.format(city))\n",
    "    \n",
    "    with open(filename, 'r') as f_in:\n",
    "        ## TODO: Use the csv library to set up a DictReader object. ##\n",
    "        ## see https://docs.python.org/3/library/csv.html           ##\n",
    "        trip_reader = csv.DictReader(f_in)\n",
    "        \n",
    "        ## TODO: Use a function on the DictReader object to read the     ##\n",
    "        ## first trip from the data file and store it in a variable.     ##\n",
    "        ## see https://docs.python.org/3/library/csv.html#reader-objects ##\n",
    "        first_trip = next(trip_reader)\n",
    "        \n",
    "        ## TODO: Use the pprint library to print the first trip. ##\n",
    "        ## see https://docs.python.org/3/library/pprint.html     ##\n",
    "        pprint(first_trip)\n",
    "        \n",
    "    # output city name and first trip for later testing\n",
    "    return (city, first_trip)\n",
    "\n",
    "# list of files for each city\n",
    "data_files = ['./data/NYC-CitiBike-2016.csv',\n",
    "              './data/Chicago-Divvy-2016.csv',\n",
    "              './data/Washington-CapitalBikeshare-2016.csv',]\n",
    "\n",
    "# print the first trip from each file, store in dictionary\n",
    "example_trips = {}\n",
    "for data_file in data_files:\n",
    "    city, first_trip = print_first_point(data_file)\n",
    "    example_trips[city] = first_trip"
   ]
  },
  {
   "cell_type": "code",
   "execution_count": 51,
   "metadata": {},
   "outputs": [],
   "source": [
    "def duration_in_mins(datum, city):\n",
    "    \"\"\"\n",
    "    Takes as input a dictionary containing info about a single trip (datum) and\n",
    "    its origin city (city) and returns the trip duration in units of minutes.\n",
    "    \n",
    "    Remember that Washington is in terms of milliseconds while Chicago and NYC\n",
    "    are in terms of seconds. \n",
    "    \n",
    "    HINT: The csv module reads in all of the data as strings, including numeric\n",
    "    values. You will need a function to convert the strings into an appropriate\n",
    "    numeric type when making your transformations.\n",
    "    see https://docs.python.org/3/library/functions.html\n",
    "    \"\"\"\n",
    "    \n",
    "    # YOUR CODE HERE\n",
    "    if city == 'NYC':\n",
    "        duration = int(datum['tripduration'])\n",
    "        \n",
    "    elif city == 'Chicago':\n",
    "        duration = int(datum['tripduration'])\n",
    "        \n",
    "    else:\n",
    "        duration = int(datum['Duration (ms)'])/1000\n",
    "    \n",
    "    return duration/60\n",
    "\n",
    "\n",
    "# Some tests to check that your code works. There should be no output if all of\n",
    "# the assertions pass. The `example_trips` dictionary was obtained from when\n",
    "# you printed the first trip from each of the original data files.\n",
    "#tests = {'NYC': 13.9833,\n",
    "        # 'Chicago': 15.4333,\n",
    "        # 'Washington': 7.1231}\n",
    "\n",
    "#for city in tests:\n",
    "    #assert abs(duration_in_mins(example_trips[city], city) - tests[city]) < .001"
   ]
  },
  {
   "cell_type": "code",
   "execution_count": 52,
   "metadata": {},
   "outputs": [],
   "source": [
    "def time_of_trip(datum, city):\n",
    "    \"\"\"\n",
    "    Takes as input a dictionary containing info about a single trip (datum) and\n",
    "    its origin city (city) and returns the month, hour, and day of the week in\n",
    "    which the trip was made.\n",
    "    \n",
    "    Remember that NYC includes seconds, while Washington and Chicago do not.\n",
    "    \n",
    "    Key: I should use the datetime module to parse the original date\n",
    "    strings into a format that is useful for extracting the desired information.\n",
    "    see https://docs.python.org/3/library/datetime.html#strftime-and-strptime-behavior\n",
    "    \"\"\"\n",
    "    \n",
    "   \n",
    "    if city=='NYC':\n",
    "        date_format=datetime.strptime(datum['starttime'],'%m/%d/%Y %H:%M:%S')\n",
    "        \n",
    "    elif city=='Chicago':\n",
    "        date_format=datetime.strptime(datum['starttime'],'%m/%d/%Y %H:%M')\n",
    "        \n",
    "    else:\n",
    "        date_format=datetime.strptime(datum['Start date'],'%m/%d/%Y %H:%M')\n",
    "        \n",
    "    month,hour,day_of_week=date_format.month,date_format.hour,date_format.strftime('%A')\n",
    "            \n",
    "    return (month, hour, day_of_week)\n",
    "\n",
    "\n",
    "# Some tests to check that the code works. There should be no output if all of\n",
    "# the assertions pass. The `example_trips` dictionary was obtained from when\n",
    "# I print the first trip from each of the original data files.\n",
    "tests = {'NYC': (1, 0, 'Friday'),\n",
    "         'Chicago': (3, 23, 'Thursday'),\n",
    "         'Washington': (3, 22, 'Thursday')}\n",
    "\n",
    "#for city in tests:\n",
    "    #assert time_of_trip(example_trips[city], city) == tests[city]"
   ]
  },
  {
   "cell_type": "code",
   "execution_count": 53,
   "metadata": {},
   "outputs": [],
   "source": [
    "def correct_member_type(user_type):\n",
    "    \"\"\"\n",
    "    Converts the user type for the Washington dataset so that it fits the other\n",
    "    datasets.\n",
    "    \"\"\"\n",
    "    # Dictionary for the conversion\n",
    "    user_type_dictionary = {\"Registered\":\"Subscriber\",\n",
    "                            \"Casual\":\"Customer\"}\n",
    "    \n",
    "    # Converting member type\n",
    "    new_user_type = user_type_dictionary[user_type]\n",
    "        \n",
    "    return new_user_type\n",
    "\n",
    "\n",
    "\n",
    "def type_of_user(datum, city):\n",
    "    \"\"\"\n",
    "    Takes as input a dictionary containing info about a single trip (datum) and\n",
    "    its origin city (city) and returns the type of system user that made the\n",
    "    trip.\n",
    "    \"\"\"\n",
    "    \n",
    "    if city == 'NYC': user_type = datum['usertype']\n",
    "    elif city == 'Chicago': user_type = datum['usertype']\n",
    "    else: user_type = correct_member_type(datum['Member Type'])\n",
    "     \n",
    "        \n",
    "    \n",
    "    return user_type"
   ]
  },
  {
   "cell_type": "markdown",
   "metadata": {},
   "source": [
    "**Question 3b**: Now, use the helper functions you wrote above to create a condensed data file for each city consisting only of the data fields indicated above. In the `/examples/` folder, you will see an example datafile from the [Bay Area Bike Share](http://www.bayareabikeshare.com/open-data) before and after conversion. Make sure that your output is formatted to be consistent with the example file."
   ]
  },
  {
   "cell_type": "code",
   "execution_count": 54,
   "metadata": {},
   "outputs": [],
   "source": [
    "def condense_data(in_file, out_file, city):\n",
    "    \"\"\"\n",
    "    This function takes full data from the specified input file\n",
    "    and writes the condensed data to a specified output file. The city\n",
    "    argument determines how the input file will be parsed.\n",
    "    \n",
    "    HINT: See the cell below to see how the arguments are structured!\n",
    "    \"\"\"\n",
    "    \n",
    "    with open(out_file, 'w') as f_out, open(in_file, 'r') as f_in:\n",
    "        # set up csv DictWriter object - writer requires column names for the\n",
    "        # first row as the \"fieldnames\" argument\n",
    "        out_colnames = ['duration', 'month', 'hour', 'day_of_week', 'user_type']        \n",
    "        trip_writer = csv.DictWriter(f_out, fieldnames = out_colnames)\n",
    "        trip_writer.writeheader()\n",
    "        \n",
    "        ## TODO: set up csv DictReader object ##\n",
    "        trip_reader = csv.DictReader(f_in)\n",
    "        \n",
    "        #  Use a function on the DictReader object to read the\n",
    "        #  first trip from the data file and store it in a variable.\n",
    "        first_trip = next(trip_reader)\n",
    "       \n",
    "\n",
    "        # collect data from and process each row\n",
    "        for row in trip_reader:\n",
    "            # set up a dictionary to hold the values for the cleaned and trimmed\n",
    "            # data point\n",
    "            new_point = {}\n",
    "    \n",
    "            \n",
    "            ## TODO: use the helper functions to get the cleaned data from  ##\n",
    "            ## the original data dictionaries.                              ##\n",
    "            ## Note that the keys for the new_point dictionary should match ##\n",
    "            ## the column names set in the DictWriter object above.         ##\n",
    "            # Write row to new csv file\n",
    "            \n",
    "            new_point['duration'] = duration_in_mins(row, city)\n",
    "            new_point['month'], new_point['hour'], new_point['day_of_week'] = time_of_trip(row, city)\n",
    "            new_point['user_type'] = type_of_user(row, city)\n",
    "\n",
    "            ## TODO: write the processed information to the output file.     ##\n",
    "            ## see https://docs.python.org/3/library/csv.html#writer-objects ##\n",
    "             # Write row to new csv file\n",
    "            trip_writer.writerow(new_point)\n",
    "            "
   ]
  },
  {
   "cell_type": "code",
   "execution_count": 56,
   "metadata": {},
   "outputs": [
    {
     "name": "stdout",
     "output_type": "stream",
     "text": [
      "\n",
      "City: Washington\n",
      "OrderedDict([('duration', '9.792516666666668'),\n",
      "             ('month', '3'),\n",
      "             ('hour', '22'),\n",
      "             ('day_of_week', 'Thursday'),\n",
      "             ('user_type', 'Subscriber')])\n",
      "\n",
      "City: Chicago\n",
      "OrderedDict([('duration', '3.3'),\n",
      "             ('month', '3'),\n",
      "             ('hour', '22'),\n",
      "             ('day_of_week', 'Thursday'),\n",
      "             ('user_type', 'Subscriber')])\n",
      "\n",
      "City: NYC\n",
      "OrderedDict([('duration', '11.433333333333334'),\n",
      "             ('month', '1'),\n",
      "             ('hour', '0'),\n",
      "             ('day_of_week', 'Friday'),\n",
      "             ('user_type', 'Subscriber')])\n"
     ]
    }
   ],
   "source": [
    "# Run this cell to check your work\n",
    "city_info = {'Washington': {'in_file': './data/Washington-CapitalBikeshare-2016.csv',\n",
    "                            'out_file': './data/Washington-2016-Summary.csv'},\n",
    "             'Chicago': {'in_file': './data/Chicago-Divvy-2016.csv',\n",
    "                         'out_file': './data/Chicago-2016-Summary.csv'},\n",
    "             'NYC': {'in_file': './data/NYC-CitiBike-2016.csv',\n",
    "                     'out_file': './data/NYC-2016-Summary.csv'}}\n",
    "\n",
    "for city, filenames in city_info.items():\n",
    "    condense_data(filenames['in_file'], filenames['out_file'], city)\n",
    "    print_first_point(filenames['out_file'])"
   ]
  },
  {
   "cell_type": "markdown",
   "metadata": {},
   "source": [
    "> **Tip**: If you save a jupyter Notebook, the output from running code blocks will also be saved. However, the state of your workspace will be reset once a new session is started. Make sure that you run all of the necessary code blocks from your previous session to reestablish variables and functions before picking up where you last left off.\n",
    "\n",
    "<a id='eda'></a>\n",
    "## Exploratory Data Analysis\n",
    "\n",
    "Now that you have the data collected and wrangled, you're ready to start exploring the data. In this section you will write some code to compute descriptive statistics from the data. You will also be introduced to the `matplotlib` library to create some basic histograms of the data.\n",
    "\n",
    "<a id='statistics'></a>\n",
    "### Statistics\n",
    "\n",
    "First, let's compute some basic counts. The first cell below contains a function that uses the csv module to iterate through a provided data file, returning the number of trips made by subscribers and customers. The second cell runs this function on the example Bay Area data in the `/examples/` folder. Modify the cells to answer the question below.\n",
    "\n",
    "**Question 4a**: Which city has the highest number of trips? Which city has the highest proportion of trips made by subscribers? Which city has the highest proportion of trips made by short-term customers?\n",
    "\n",
    "**Answer**:NYC has the highest number of trips. NYC also has the highest proportion of trips made by subscribers. Chicago has the highest proportion of short-term customers."
   ]
  },
  {
   "cell_type": "code",
   "execution_count": 35,
   "metadata": {},
   "outputs": [],
   "source": [
    "def number_of_trips(filename):\n",
    "    \"\"\"\n",
    "    This function reads in a file with trip data and reports the number of\n",
    "    trips made by subscribers, customers, and total overall.\n",
    "    \"\"\"\n",
    "   # Create dataframe\n",
    "    df = pd.read_csv(filename)\n",
    "        \n",
    "   # initialize count variables\n",
    "    n_subscribers = 0\n",
    "    n_customers = 0\n",
    "        \n",
    "       # initialize count variables\n",
    "    n_subscribers = len(df[df['user_type']=='Subscriber'])\n",
    "    n_customers = len(df[df['user_type']=='Customer'])\n",
    "    \n",
    "        \n",
    "   # compute total number of rides\n",
    "    n_total = n_subscribers + n_customers\n",
    "        \n",
    "   # return tallies as a tuple\n",
    "    return(n_subscribers, n_customers, n_total)"
   ]
  },
  {
   "cell_type": "code",
   "execution_count": 36,
   "metadata": {},
   "outputs": [
    {
     "name": "stdout",
     "output_type": "stream",
     "text": [
      "\n",
      "City: Washington\n",
      "Number of trips:  66325\n",
      "Proportion of trips made by subscribers:  78.0278929513758\n",
      "Proportion of trips made by customers:  21.9721070486242\n",
      "\n",
      "City: Chicago\n",
      "Number of trips:  72130\n",
      "Proportion of trips made by subscribers:  76.22487175932345\n",
      "Proportion of trips made by customers:  23.77512824067656\n",
      "\n",
      "City: NYC\n",
      "Number of trips:  276080\n",
      "Proportion of trips made by subscribers:  89.06693711967546\n",
      "Proportion of trips made by customers:  10.933062880324544\n"
     ]
    }
   ],
   "source": [
    "n='./data/NYC-2016-Summary.csv'\n",
    "w='./data/Washington-2016-Summary.csv'\n",
    "c='./data/Chicago-2016-Summary.csv'\n",
    "b='./examples/BayArea-Y3-Summary.csv'\n",
    "\n",
    "city_info = {'Washington': './data/Washington-2016-Summary.csv',\n",
    "             'Chicago': './data/Chicago-2016-Summary.csv',\n",
    "             'NYC': './data/NYC-2016-Summary.csv'}\n",
    "\n",
    "for city, filename in city_info.items():\n",
    "    n_subscribers, n_customers, n_total = number_of_trips(filename)\n",
    "    print('\\nCity: {}'.format(city))\n",
    "    print('Number of trips: ', n_total)\n",
    "    print('Proportion of trips made by subscribers: ', n_subscribers/n_total*100)\n",
    "    print('Proportion of trips made by customers: ', n_customers/n_total*100)"
   ]
  },
  {
   "cell_type": "markdown",
   "metadata": {},
   "source": [
    "> **Tip**: In order to add additional cells to a notebook, you can use the \"Insert Cell Above\" and \"Insert Cell Below\" options from the menu bar above. There is also an icon in the toolbar for adding new cells, with additional icons for moving the cells up and down the document. By default, new cells are of the code type; you can also specify the cell type (e.g. Code or Markdown) of selected cells from the Cell menu or the dropdown in the toolbar.\n",
    "\n",
    "Now, you will write your own code to continue investigating properties of the data.\n",
    "\n",
    "**Question 4b**: Bike-share systems are designed for riders to take short trips. Most of the time, users are allowed to take trips of 30 minutes or less with no additional charges, with overage charges made for trips of longer than that duration. What is the average trip length for each city? What proportion of rides made in each city are longer than 30 minutes?\n",
    "\n",
    "**Answer**:\n",
    "**Average trip length for each city is:**\n",
    "\n",
    "Bay Area : 14.038656929671376\n",
    "\n",
    "NYC: 15.812592998\n",
    "\n",
    "Washington: 18.9328735591\n",
    "\n",
    "Chicago: 16.5636293688\n",
    "\n",
    "**Proportion of trips over 30 min:**\n",
    "\n",
    "Bay Area : 3.5243689474519764\n",
    "\n",
    "NYC: 7.302463538260892\n",
    "\n",
    "Chicago: 8.332178011922917\n",
    "\n",
    "Washington: 10.839050131926122\n",
    "\n",
    "\n"
   ]
  },
  {
   "cell_type": "code",
   "execution_count": 37,
   "metadata": {
    "scrolled": true
   },
   "outputs": [],
   "source": [
    "## Use this and additional cells to answer Question 4b.                 ##\n",
    "##                                                                      ##\n",
    "## HINT: The csv module reads in all of the data as strings, including  ##\n",
    "## numeric values. You will need a function to convert the strings      ##\n",
    "## into an appropriate numeric type before you aggregate data.          ##\n",
    "## TIP: For the Bay Area example, the average trip length is 14 minutes ##\n",
    "## and 3.5% of trips are longer than 30 minutes.                        ##\n",
    "def average_trip_length(filename):\n",
    "    \"\"\"\n",
    "    This function reads trip data of a city and returns the average trip length of the CSV summaries.\n",
    "    Input is the file path and the returned value is a float\n",
    "    \"\"\"\n",
    "    #Create dataframe\n",
    "    df = pd.read_csv(filename)\n",
    "    \n",
    "    #Calculate average\n",
    "    average_duration = np.average(df['duration'])\n",
    "    \n",
    "    #Calculate proportion of rides above 30 minutes\n",
    "    over_30 = (len(df[df['duration']>30]) / len(df))*100\n",
    "    #Calculate proportion of rides above 30 minutes\n",
    "    under_30 = (len(df[df['duration']<30]) / len(df))*100\n",
    "    return average_duration,over_30,under_30"
   ]
  },
  {
   "cell_type": "code",
   "execution_count": 38,
   "metadata": {},
   "outputs": [
    {
     "name": "stdout",
     "output_type": "stream",
     "text": [
      "\n",
      "City: Bay Area\n",
      "Proportion of trips under 30 min:  96.47563105254802\n",
      "Proportion of trips over 30 min:  3.5243689474519764\n",
      "Average length of trips:  14.038656929671376\n",
      "\n",
      "City: Washington\n",
      "Proportion of trips under 30 min:  89.16094986807389\n",
      "Proportion of trips over 30 min:  10.839050131926122\n",
      "Average length of trips:  18.93305161804247\n",
      "\n",
      "City: Chicago\n",
      "Proportion of trips under 30 min:  91.65257174545958\n",
      "Proportion of trips over 30 min:  8.332178011922917\n",
      "Average length of trips:  16.563645039049867\n",
      "\n",
      "City: NYC\n",
      "Proportion of trips under 30 min:  92.68308543806472\n",
      "Proportion of trips over 30 min:  7.302463538260892\n",
      "Average length of trips:  15.812599606691304\n"
     ]
    }
   ],
   "source": [
    "city_info = { 'Bay Area' : './examples/BayArea-Y3-Summary.csv',\n",
    "             'Washington': './data/Washington-2016-Summary.csv',\n",
    "             'Chicago': './data/Chicago-2016-Summary.csv',\n",
    "             'NYC': './data/NYC-2016-Summary.csv'}\n",
    "\n",
    "for city, filename in city_info.items():\n",
    "    average_duration, over_30, under_30 = average_trip_length(filename)\n",
    "    print('\\nCity: {}'.format(city))\n",
    "    print('Proportion of trips under 30 min: ', under_30)\n",
    "    print('Proportion of trips over 30 min: ', over_30)\n",
    "    print('Average length of trips: ', average_duration)"
   ]
  },
  {
   "cell_type": "markdown",
   "metadata": {},
   "source": [
    "**Question 4c**: Dig deeper into the question of trip duration based on ridership. Choose one city. Within that city, which type of user takes longer rides on average: Subscribers or Customers?\n",
    "\n",
    "**Answer**: Replace this text with your response!"
   ]
  },
  {
   "cell_type": "code",
   "execution_count": null,
   "metadata": {},
   "outputs": [],
   "source": [
    "## Use this and additional cells to answer Question 4c. If you have    ##\n",
    "## not done so yet, consider revising some of your previous code to    ##\n",
    "## make use of functions for reusability.                              ##\n",
    "##                                                                     ##\n",
    "## TIP: For the Bay Area example data, you should find the average     ##\n",
    "## Subscriber trip duration to be 9.5 minutes and the average Customer ##\n",
    "## trip duration to be 54.6 minutes. Do the other cities have this     ##\n",
    "## level of difference?                                                ##\n",
    "\n",
    "def ridersofbikes(filename):\n",
    "    \"\"\"\n",
    "    Reads trip data of city and returns average trip duration for each kind of user, be it subscriber or one off customer.\n",
    "    \n",
    "    \"\"\"\n",
    "    #Creating dataframe from CSV file\n",
    "    trip_data = pd.read_csv(filename)\n",
    "    \n",
    "    #Counter variables\n",
    "    \n",
    "    subscriber_duration = 0\n",
    "    customer_duration = 0\n",
    "    subscriber_count = 0\n",
    "    customer_count = 0\n",
    "\n",
    "    for duration,user_type in zip(trip_data['duration'], trip_data['user_type']):\n",
    "        if user_type == 'Subscriber':\n",
    "            subscriber_duration += duration\n",
    "            subscriber_count += 1\n",
    "        else:\n",
    "            customer_duration += duration\n",
    "            customer_count += 1\n",
    "    customer_avg = customer_duration/customer_count\n",
    "    subscriber_avg = subscriber_duration/subscriber_count\n",
    "        \n",
    "    return (\"Customer Average:\", customer_avg, \"Subscriber Average:\", subscriber_avg)\n",
    "\n",
    "def proportion_over30(filename):\n",
    "    \"\"\"\n",
    "    Function gets the proportion of subscribers relative to total clients' travel time \n",
    "    where the trip duration is more than 30. Input is the file path and the returned \n",
    "    value is a float.\n",
    "    \"\"\"\n",
    "    \n",
    "    # Create dataframe\n",
    "    df = pd.read_csv(filename)\n",
    "    \n",
    "    # Filter dataframe to contain longer rides\n",
    "    df2 = df[df['duration']>30]\n",
    "    \n",
    "    # Calculate proportion subscribers and customer\n",
    "    p_customer = len(df2[df2['user_type'] == 'Customer'])/len(df2)\n",
    "    p_subscriber = len(df2[df2['user_type'] == 'Subscriber'])/len(df2)\n",
    "\n",
    "    return p_customer, p_subscriber"
   ]
  },
  {
   "cell_type": "code",
   "execution_count": 16,
   "metadata": {},
   "outputs": [
    {
     "name": "stdout",
     "output_type": "stream",
     "text": [
      "\n",
      "City: Bay Area\n",
      "Proportion customers: 0.8513513513513513\n",
      "Proportion subscriber:  0.14864864864864866\n",
      "\n",
      "City: Washington\n",
      "Proportion customers: 0.7907914869940187\n",
      "Proportion subscriber:  0.20920851300598137\n",
      "\n",
      "City: Chicago\n",
      "Proportion customers: 0.8043261231281198\n",
      "Proportion subscriber:  0.1956738768718802\n",
      "\n",
      "City: NYC\n",
      "Proportion customers: 0.3445802206500767\n",
      "Proportion subscriber:  0.6496314253203384\n",
      "******************************************************************************************************\n",
      "Bay Area: ('Customer Average:', 54.55121116377032, 'Subscriber Average:', 9.512633839275217)\n",
      "NYC: ('Customer Average:', 32.77655955039225, 'Subscriber Average:', 13.680790523907177)\n",
      "Washington: ('Customer Average:', 41.67803139252976, 'Subscriber Average:', 12.528224939776903)\n",
      "Chicago: ('Customer Average:', 30.979781133982506, 'Subscriber Average:', 12.067140466706615)\n"
     ]
    }
   ],
   "source": [
    "## Modify this and the previous cell to answer Question 4c. ##\n",
    "\n",
    "# Display the data created by porportion_overtime function\n",
    "for city,path in city_info.items(): \n",
    "    p_customer, p_subscriber = proportion_over30(path)\n",
    "    print('\\nCity: {}'.format(city))\n",
    "    print(\"Proportion customers:\", p_customer)\n",
    "    print(\"Proportion subscriber: \", p_subscriber)\n",
    "    \n",
    "print(\"******************************************************************************************************\")\n",
    "print('Bay Area:',ridersofbikes(b))    \n",
    "print('NYC:', ridersofbikes(n))\n",
    "print('Washington:', ridersofbikes(w))\n",
    "print('Chicago:', ridersofbikes(c))"
   ]
  },
  {
   "cell_type": "markdown",
   "metadata": {},
   "source": [
    "<a id='visualizations'></a>\n",
    "### Visualizations\n",
    "\n",
    "The last set of values that you computed should have pulled up an interesting result. While the mean trip time for Subscribers is well under 30 minutes, the mean trip time for Customers is actually _above_ 30 minutes! It will be interesting for us to look at how the trip times are distributed. In order to do this, a new library will be introduced here, `matplotlib`. Run the cell below to load the library and to generate an example plot."
   ]
  },
  {
   "cell_type": "code",
   "execution_count": 25,
   "metadata": {},
   "outputs": [
    {
     "data": {
      "image/png": "[encoded data removed]",
      "text/plain": [
       "<Figure size 432x288 with 1 Axes>"
      ]
     },
     "metadata": {},
     "output_type": "display_data"
    }
   ],
   "source": [
    "# load library\n",
    "import matplotlib.pyplot as plt\n",
    "\n",
    "# this is a 'magic word' that allows for plots to be displayed\n",
    "# inline with the notebook. If you want to know more, see:\n",
    "# http://ipython.readthedocs.io/en/stable/interactive/magics.html\n",
    "%matplotlib inline \n",
    "\n",
    "# example histogram, data taken from bay area sample\n",
    "data = [ 7.65,  8.92,  7.42,  5.50, 16.17,  4.20,  8.98,  9.62, 11.48, 14.33,\n",
    "        19.02, 21.53,  3.90,  7.97,  2.62,  2.67,  3.08, 14.40, 12.90,  7.83,\n",
    "        25.12,  8.30,  4.93, 12.43, 10.60,  6.17, 10.88,  4.78, 15.15,  3.53,\n",
    "         9.43, 13.32, 11.72,  9.85,  5.22, 15.10,  3.95,  3.17,  8.78,  1.88,\n",
    "         4.55, 12.68, 12.38,  9.78,  7.63,  6.45, 17.38, 11.90, 11.52,  8.63,]\n",
    "plt.hist(data)\n",
    "plt.title('Distribution of Trip Durations')\n",
    "plt.xlabel('Duration (m)')\n",
    "plt.show()"
   ]
  },
  {
   "cell_type": "markdown",
   "metadata": {},
   "source": [
    "In the above cell, we collected fifty trip times in a list, and passed this list as the first argument to the `.hist()` function. This function performs the computations and creates plotting objects for generating a histogram, but the plot is actually not rendered until the `.show()` function is executed. The `.title()` and `.xlabel()` functions provide some labeling for plot context.\n",
    "\n",
    "You will now use these functions to create a histogram of the trip times for the city you selected in question 4c. Don't separate the Subscribers and Customers for now: just collect all of the trip times and plot them."
   ]
  },
  {
   "cell_type": "code",
   "execution_count": 26,
   "metadata": {},
   "outputs": [],
   "source": [
    "## Use this and additional cells to collect all of the trip times as a list ##\n",
    "## and then use pyplot functions to generate a histogram of trip times.     ##\n",
    "\n",
    "#import NYC's trip info as dataframe\n",
    "trip_data=pd.read_csv(n)"
   ]
  },
  {
   "cell_type": "code",
   "execution_count": 27,
   "metadata": {},
   "outputs": [
    {
     "data": {
      "image/png": "[encoded data removed]",
      "text/plain": [
       "<Figure size 432x288 with 1 Axes>"
      ]
     },
     "metadata": {},
     "output_type": "display_data"
    }
   ],
   "source": [
    "#creating a histogram for all trip durations\n",
    "plt.hist(trip_data['duration'])\n",
    "plt.show()"
   ]
  },
  {
   "cell_type": "markdown",
   "metadata": {},
   "source": [
    "If you followed the use of the `.hist()` and `.show()` functions exactly like in the example, you're probably looking at a plot that's completely unexpected. The plot consists of one extremely tall bar on the left, maybe a very short second bar, and a whole lot of empty space in the center and right. Take a look at the duration values on the x-axis. This suggests that there are some highly infrequent outliers in the data. Instead of reprocessing the data, you will use additional parameters with the `.hist()` function to limit the range of data that is plotted. Documentation for the function can be found [[here]](https://matplotlib.org/devdocs/api/_as_gen/matplotlib.pyplot.hist.html#matplotlib.pyplot.hist).\n",
    "\n",
    "**Question 5**: Use the parameters of the `.hist()` function to plot the distribution of trip times for the Subscribers in your selected city. Do the same thing for only the Customers. Add limits to the plots so that only trips of duration less than 75 minutes are plotted. As a bonus, set the plots up so that bars are in five-minute wide intervals. For each group, where is the peak of each distribution? How would you describe the shape of each distribution?\n",
    "\n",
    "**Answer**: \n",
    "\n",
    "Peak Time for subscriber is between 5-10 minutes, for customers it is between 15-20 minutes.Shape of each distribution is right skewed.Distribution for subscribers is more right skewed."
   ]
  },
  {
   "cell_type": "code",
   "execution_count": 33,
   "metadata": {},
   "outputs": [],
   "source": [
    "## Use this and additional cells to answer Question 5. ##\n",
    "import seaborn as sns\n",
    "import numpy as np\n",
    "sns.set_style(\"darkgrid\", {\"axes.facecolor\": \".9\"})\n",
    "customers = []\n",
    "subscribers = []\n",
    "for duration, user in zip(trip_data['duration'], trip_data['user_type']):\n",
    "    if user == 'Customer':\n",
    "        customers.append(duration)\n",
    "    else:\n",
    "        subscribers.append(duration)"
   ]
  },
  {
   "cell_type": "code",
   "execution_count": 34,
   "metadata": {},
   "outputs": [
    {
     "data": {
      "image/png": "[encoded data removed]",
      "text/plain": [
       "<Figure size 432x288 with 1 Axes>"
      ]
     },
     "metadata": {},
     "output_type": "display_data"
    }
   ],
   "source": [
    "plt.hist(subscribers, bins = np.arange(min(subscribers), max(subscribers) + 5, 5));\n",
    "plt.xlim([0,75])\n",
    "plt.title('Distribution of Travel Duration by Subscribers')\n",
    "plt.xlabel('Duration(M)')\n",
    "plt.ylabel('Frequency')\n",
    "plt.grid(b=True, which='major')\n",
    "plt.grid(b=True, which='minor')"
   ]
  },
  {
   "cell_type": "code",
   "execution_count": 32,
   "metadata": {},
   "outputs": [
    {
     "data": {
      "image/png": "[encoded data removed]",
      "text/plain": [
       "<Figure size 432x288 with 1 Axes>"
      ]
     },
     "metadata": {},
     "output_type": "display_data"
    }
   ],
   "source": [
    "plt.hist(customers, bins = np.arange(min(customers), max(customers) + 5, 5));\n",
    "plt.xlim([0,75])\n",
    "plt.title('Distribution of Travel Duration by Customers')\n",
    "plt.xlabel('Duration(M)')\n",
    "plt.ylabel('Frequency')\n",
    "plt.grid(b=True, which='major')\n",
    "plt.grid(b=True, which='minor')"
   ]
  },
  {
   "cell_type": "markdown",
   "metadata": {
    "collapsed": true
   },
   "source": [
    "## Performing Your Own Analysis\n",
    "\n",
    "So far, you've performed an initial exploration into the data available. You have compared the relative volume of trips made between three U.S. cities and the ratio of trips made by Subscribers and Customers. For one of these cities, you have investigated differences between Subscribers and Customers in terms of how long a typical trip lasts. Now it is your turn to continue the exploration in a direction that you choose. Here are a few suggestions for questions to explore:\n",
    "\n",
    "- How does ridership differ by month or season? Which month / season has the highest ridership? Does the ratio of Subscriber trips to Customer trips change depending on the month or season?\n",
    "- Is the pattern of ridership different on the weekends versus weekdays? On what days are Subscribers most likely to use the system? What about Customers? Does the average duration of rides change depending on the day of the week?\n",
    "- During what time of day is the system used the most? Is there a difference in usage patterns for Subscribers and Customers?\n",
    "\n",
    "If any of the questions you posed in your answer to question 1 align with the bullet points above, this is a good opportunity to investigate one of them. As part of your investigation, you will need to create a visualization. If you want to create something other than a histogram, then you might want to consult the [Pyplot documentation](https://matplotlib.org/devdocs/api/pyplot_summary.html). In particular, if you are plotting values across a categorical variable (e.g. city, user type), a bar chart will be useful. The [documentation page for `.bar()`](https://matplotlib.org/devdocs/api/_as_gen/matplotlib.pyplot.bar.html#matplotlib.pyplot.bar) includes links at the bottom of the page with examples for you to build off of for your own use.\n",
    "\n",
    "**Question 6**: Continue the investigation by exploring another question that could be answered by the data available. Document the question you want to explore below. Your investigation should involve at least two variables and should compare at least two groups. You should also use at least one visualization as part of your explorations.\n",
    "\n",
    "**Answer**: "
   ]
  },
  {
   "cell_type": "markdown",
   "metadata": {},
   "source": [
    "> Find the ridership variation by month,day of week and hour for the city of NYC.\n",
    "\n",
    "\n",
    "> Find the subscriber to customer variation depending on month,day of week and hour .\n",
    "####  Monthly Ridership Variation In NYC :\n",
    "- The shape of monthly ridership distribution is closely bell curve(normal distribution). \n",
    "- Users enjoy biking most in summer months.\n",
    "- The number of trips in January (min) is one third of those in September (max).\n",
    "- In July there are less bikers than in June and August, I guess because in July most of the people are on holiday out of the city.\n",
    "- Winter months sees less rides in general.\n",
    "- Months september and october are the months with highest ridership in the case of subscribers.\n",
    "- Months august and september are the months with highest ridership in the case of customers.\n",
    "#### Weekly Ridership Variation In NYC:\n",
    "- Subscribers use the service a lot during the week days, but customers tend to use more on week ends.\n",
    "- Rides on weekly bases shows expected trends.\n",
    "- Wednesday is the most busiest day in terms of overall ridership.\n",
    "- For Customer: Ridership was greater on Weekends as compared to Weekdays. Maximum ridership was on Saturday\n",
    "-\n",
    "#### Hourly Ridership Variation in NYC:\n",
    "- 17 Hours is the peak ridership hour with highest rides of about 27199.\n",
    "- 15 Hours is the peak hour for customers whereas 17 Hours is the peak hour for subscribers.\n",
    "- 1-7 and 21-24 Hours are the slack hour time for customers. This implies that early morning and late night customers prefer not to travel. "
   ]
  },
  {
   "cell_type": "code",
   "execution_count": 39,
   "metadata": {},
   "outputs": [
    {
     "data": {
      "image/png": "[encoded data removed]",
      "text/plain": [
       "<Figure size 432x288 with 1 Axes>"
      ]
     },
     "metadata": {},
     "output_type": "display_data"
    }
   ],
   "source": [
    "\n",
    "## Monthly distribution of riders in NYC\n",
    "\n",
    "import calendar\n",
    "import datetime\n",
    "\n",
    "n='./data/NYC-2016-Summary.csv'\n",
    "\n",
    "def read_from_csv(input_csvfile, duration=False, month=False, hour=False, day_of_week=False):\n",
    "    \"\"\"\n",
    "    Function to create flexible stats for any column of the input csv file\n",
    "    \n",
    "    param: input --> csv file, column name: bool\n",
    "    param: output --> tuple of lists containing \n",
    "                        1. all the values for desired column\n",
    "                        2. all subscribers for desired column\n",
    "                        3. all customers for desired column\n",
    "    \"\"\"\n",
    "    # assign columns name\n",
    "    if duration==True:\n",
    "        col_name='duration'\n",
    "    elif month==True:\n",
    "        col_name='month'\n",
    "    elif hour==True:\n",
    "        col_name='hour'\n",
    "    elif day_of_week==True:\n",
    "        col_name='day_of_week'\n",
    "    \n",
    "    # init lists for output\n",
    "    n_ridership4column = []\n",
    "    n_ridership_sub = []\n",
    "    n_ridership_cust = []\n",
    "    \n",
    "    with open(n, 'r') as f_in:\n",
    "        filereader = csv.DictReader(f_in)\n",
    "        for row in filereader:\n",
    "            n_ridership4column.append(row[col_name])\n",
    "            if row['user_type'] == 'Subscriber':\n",
    "                n_ridership_sub.append(row[col_name])\n",
    "            else:\n",
    "                n_ridership_cust.append(row[col_name])\n",
    "            \n",
    "    return n_ridership4column, n_ridership_sub, n_ridership_cust\n",
    "\n",
    "# using function above to get monthly ridership\n",
    "monthwise = list(map(int, read_from_csv(n, month=True)[0]))\n",
    "monthwise_sub = list(map(int, read_from_csv(n, month=True)[1]))\n",
    "monthwise_cust = list(map(int, read_from_csv(n, month=True)[2]))\n",
    "\n",
    "# plotting begins\n",
    "## NOTE: Part of this solution was inspired by https://stackoverflow.com/questions/43283586/how-do-i-plot-a-histogram-of-months-with-dates-in-matplotlib\n",
    "fig, ax = plt.subplots()\n",
    "bins = [i for i in range(1,14)] # upper bound is 14 to accomodate bin for december\n",
    "\n",
    "# Plotting monthly total along with customers and subscribers stacked\n",
    "ax.hist(monthwise, bins=bins, edgecolor='k', align='left', label='Total Ridership', stacked= True)\n",
    "ax.hist(monthwise_sub, bins=bins, edgecolor='k', align='left', label='Subscribers', stacked=True)\n",
    "ax.hist(monthwise_cust, bins=bins, edgecolor='k', align='left', label='Customer', stacked=True)\n",
    "\n",
    "ax.set_xticks(bins[:-1])\n",
    "ax.set_xticklabels(list(calendar.month_abbr[i] for i in bins[:-1]))\n",
    "\n",
    "plt.title('Monthly Ridership Variation In NYC', fontsize=16)\n",
    "plt.xlabel('Months', fontsize=14)\n",
    "plt.ylabel('Number Of Trips', fontsize=14)\n",
    "plt.xticks(fontsize=12)  \n",
    "plt.yticks(fontsize=12)\n",
    "\n",
    "plt.legend()\n",
    "plt.show()"
   ]
  },
  {
   "cell_type": "code",
   "execution_count": 45,
   "metadata": {},
   "outputs": [
    {
     "data": {
      "image/png": "[encoded data removed]",
      "text/plain": [
       "<Figure size 576x432 with 1 Axes>"
      ]
     },
     "metadata": {},
     "output_type": "display_data"
    }
   ],
   "source": [
    "# using function above to get weekly ridership\n",
    "weekwise = read_from_csv(n, day_of_week=True)[0]\n",
    "weekwise_sub = read_from_csv(n, day_of_week=True)[1]\n",
    "weekwise_cust = read_from_csv(n, day_of_week=True)[2]\n",
    "\n",
    "# following is an ugly workaround to get days of the week on x-axis in the right order in the histogram.\n",
    "# Logic is as following: 1. Just using python and matplotlib to get intended result avoiding pandas (don't ask why!!)\n",
    "#                        2. simply by using plt.hist and the weekwise would not order the names in Mon-Sun sequence\n",
    "#                        3. From names of days, get the index and then using ax.set_ticks giving it a right order\n",
    "\n",
    "weekdays = [calendar.day_name[i] for i in range(7)]\n",
    "weekly_avg = int(sum([weekwise.count(i) for i in weekdays]) / len(weekdays))\n",
    "\n",
    "fig, ax = plt.subplots(figsize=(8,6))\n",
    "bins=[i for i in range(8)]\n",
    "\n",
    "# Plotting total weekly rides, customer and subscribers stacked\n",
    "ax.hist([weekdays.index(d) for d in weekwise],\n",
    "        bins=bins, edgecolor='k', align='left', label='Total', stacked= True)\n",
    "ax.hist([weekdays.index(d) for d in weekwise_sub], \n",
    "        bins=bins, edgecolor='k', align='left', label='Subscribers', stacked=True)\n",
    "ax.hist([weekdays.index(d) for d in weekwise_cust], \n",
    "        bins=bins, edgecolor='k', align='left', label='Customer', stacked=True)\n",
    "\n",
    "# Rename the xticks by first tagging them with bins and renaming that to Mon-Sun sequence by using weekdays list\n",
    "ax.set_xticks(bins[:-1])\n",
    "ax.set_xticklabels(list(calendar.day_abbr[i] for i in bins[:-1]))\n",
    "\n",
    "plt.title('Weekly Ridership Variation In NYC', fontsize=16)\n",
    "plt.xlabel('Days of Week', fontsize=14)\n",
    "plt.ylabel('Number Of Trips', fontsize=14)\n",
    "plt.xticks(fontsize=12)  \n",
    "plt.yticks(fontsize=12)\n",
    "plt.axhline(weekly_avg, color='r', linestyle='dashed', linewidth=2, label='Mean')\n",
    "\n",
    "plt.legend(fontsize=12)\n",
    "plt.show()"
   ]
  },
  {
   "cell_type": "code",
   "execution_count": 57,
   "metadata": {},
   "outputs": [],
   "source": [
    "## Reading the file to calculate hourly distribution of ridership   ##\n",
    "## and the Subscriber-Customer ratio variation per hour.            ##\n",
    "def read_hour(filename):\n",
    "    with open(filename, 'r') as f_in:\n",
    "        reader = csv.DictReader(f_in)\n",
    "        hour_distribution = [0] * 24\n",
    "        subs_hour = [0] * 24\n",
    "        cust_hour = [0] * 24\n",
    "        for row in reader:\n",
    "            hour_distribution[int(row['hour'])-1] += 1\n",
    "            if(row['user_type'] =='Subscriber'):\n",
    "                subs_hour[int(row['hour'])-1] +=1\n",
    "            else:\n",
    "                cust_hour[int(row['hour'])-1] +=1\n",
    "        return hour_distribution , subs_hour ,cust_hour"
   ]
  },
  {
   "cell_type": "code",
   "execution_count": 60,
   "metadata": {},
   "outputs": [],
   "source": [
    "def print_variation_hour():\n",
    "\n",
    "    hour_ridership ,subs_hour ,cust_hour = read_hour(filename)\n",
    "   \n",
    "    print('Highest ridership is in hour:',time_hrs[hour_ridership.index(max(hour_ridership))],'with',max(hour_ridership),'rides')\n",
    "    plt.title('Hourly Ridership Variation In NYC',fontsize=16)\n",
    "    plt.plot(time_hrs,subs_hour,marker = 'o',markersize = 3)\n",
    "    plt.plot(time_hrs,cust_hour,marker = 'o',markersize = 3)\n",
    "    plt.legend(['Subscriber','Customer'],loc = 'upper left',fontsize=12)\n",
    "    plt.xticks(range(1,25,1),fontsize=12)\n",
    "    plt.xlabel('Hours',fontsize=14)\n",
    "    plt.ylabel('Number Of Trips',fontsize=14)\n",
    "    plt.show()"
   ]
  },
  {
   "cell_type": "code",
   "execution_count": 61,
   "metadata": {},
   "outputs": [
    {
     "name": "stdout",
     "output_type": "stream",
     "text": [
      "Highest ridership is in hour: 17 with 27199 rides\n"
     ]
    },
    {
     "data": {
      "image/png": "[encoded data removed]",
      "text/plain": [
       "<Figure size 432x288 with 1 Axes>"
      ]
     },
     "metadata": {},
     "output_type": "display_data"
    }
   ],
   "source": [
    "time_hrs = []\n",
    "for i in range(1,25):\n",
    "    time_hrs.append(i)\n",
    "print_variation_hour()"
   ]
  },
  {
   "cell_type": "markdown",
   "metadata": {},
   "source": [
    "<a id='conclusions'></a>\n",
    "## Conclusions\n",
    "\n",
    "Congratulations on completing the project! This is only a sampling of the data analysis process: from generating questions, wrangling the data, and to exploring the data. Normally, at this point in the data analysis process, you might want to draw conclusions about the data by performing a statistical test or fitting the data to a model for making predictions. There are also a lot of potential analyses that could be performed on the data which are not possible with only the data provided. For example, detailed location data has not been investigated. Where are the most commonly used docks? What are the most common routes? As another example, weather has potential to have a large impact on daily ridership. How much is ridership impacted when there is rain or snow? Are subscribers or customers affected more by changes in weather?\n",
    "\n",
    "**Question 7**: Putting the bike share data aside, think of a topic or field of interest where you would like to be able to apply the techniques of data science. What would you like to be able to learn from your chosen subject?\n",
    "\n",
    "**Answer**: The techniques of the data science has become the robust in many vital fields. The techniques are of more precisely bussiness logics oriented. In case one can make many perseption out of it base on data which you might wanted to make analyse. What ever the perception can be made it might be small or large we can make use out of it.\n",
    "\n",
    "**I personally want to use these skills to analyze open data that can be found on the internet. There are all sorts of things such as social media sentiment,sports,finance.**\n",
    "> **Tip**: If we want to share the results of our analysis with others, we aren't limited to giving them a copy of the jupyter Notebook (.ipynb) file. We can also export the Notebook output in a form that can be opened even for those without Python installed. From the **File** menu in the upper left, go to the **Download as** submenu. You can then choose a different format that can be viewed more generally, such as HTML (.html) or\n",
    "PDF (.pdf). You may need additional packages or software to perform these exports.\n",
    "\n",
    "> If you are working on this project via the Project Notebook page in the classroom, you can also submit this project directly from the workspace. **Before you do that**, you should save an HTML copy of the completed project to the workspace by running the code cell below. If it worked correctly, the output code should be a 0, and if you click on the jupyter icon in the upper left, you should see your .html document in the workspace directory. Alternatively, you can download the .html copy of your report following the steps in the previous paragraph, then _upload_ the report to the directory (by clicking the jupyter icon).\n",
    "\n",
    "> Either way, once you've gotten the .html report in your workspace, you can complete your submission by clicking on the \"Submit Project\" button to the lower-right hand side of the workspace."
   ]
  },
  {
   "cell_type": "code",
   "execution_count": null,
   "metadata": {},
   "outputs": [],
   "source": [
    "from subprocess import call\n",
    "call(['python', '-m', 'nbconvert', 'Bike_Share_Analysis.ipynb'])"
   ]
  }
 ],
 "metadata": {
  "anaconda-cloud": {},
  "kernelspec": {
   "display_name": "Python 3",
   "language": "python",
   "name": "python3"
  },
  "language_info": {
   "codemirror_mode": {
    "name": "ipython",
    "version": 3
   },
   "file_extension": ".py",
   "mimetype": "text/x-python",
   "name": "python",
   "nbconvert_exporter": "python",
   "pygments_lexer": "ipython3",
   "version": "3.8.3"
  }
 },
 "nbformat": 4,
 "nbformat_minor": 1
}
